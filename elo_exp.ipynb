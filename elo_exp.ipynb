{
 "cells": [
  {
   "cell_type": "markdown",
   "id": "25fa1b41",
   "metadata": {},
   "source": [
    "https://en.wikipedia.org/wiki/Elo_rating_system \n",
    "\n",
    "Important: __Practical Issues__ Section\n",
    "\n",
    "Activity points? K_factor Deflation as you play?"
   ]
  },
  {
   "cell_type": "code",
   "execution_count": 182,
   "id": "38ba5aff",
   "metadata": {},
   "outputs": [
    {
     "name": "stdout",
     "output_type": "stream",
     "text": [
      "Collecting numpy\n",
      "  Downloading numpy-2.3.2-cp311-cp311-win_amd64.whl.metadata (60 kB)\n",
      "Downloading numpy-2.3.2-cp311-cp311-win_amd64.whl (13.1 MB)\n",
      "   ---------------------------------------- 0.0/13.1 MB ? eta -:--:--\n",
      "   --------------------------------- ------ 11.0/13.1 MB 57.2 MB/s eta 0:00:01\n",
      "   ---------------------------------------- 13.1/13.1 MB 51.3 MB/s eta 0:00:00\n",
      "Installing collected packages: numpy\n",
      "Successfully installed numpy-2.3.2\n",
      "Note: you may need to restart the kernel to use updated packages.\n"
     ]
    }
   ],
   "source": [
    "pip install numpy"
   ]
  },
  {
   "cell_type": "code",
   "execution_count": 183,
   "id": "2e090863",
   "metadata": {},
   "outputs": [],
   "source": [
    "from math import ceil\n",
    "from random import random, choices\n",
    "import numpy as np\n",
    "global_kFactor = 40\n",
    "# Expected 1 = WIN. 0.5 = DRAW. 0 = LOSS\n",
    "def expVal(ratingMe, ratingOpp):\n",
    "    return 1 / (1 + 10 ** ((ratingOpp - ratingMe) / 400))\n",
    "\n",
    "def ratingChange(ratingA, ratingB, winner, kFactor=global_kFactor):\n",
    "    winA = 1 if winner == \"A\" else 0\n",
    "    winB = 1 if winner == \"B\" else 0\n",
    "    expA = expVal(ratingA, ratingB)\n",
    "    expB = expVal(ratingB, ratingA)\n",
    "    changeA = round(kFactor * (winA - expA)) # NOTE: using ceil causes more points to exist\n",
    "    changeB = round(kFactor * (winB - expB))\n",
    "    return changeA , changeB \n",
    "\n",
    "def updateRating(ratingA, ratingB, winner, kFactor=global_kFactor):\n",
    "    changeA, changeB = ratingChange(ratingA, ratingB, winner, kFactor)\n",
    "    return ratingA + changeA, ratingB + changeB\n"
   ]
  },
  {
   "cell_type": "code",
   "execution_count": 214,
   "id": "890bb77a",
   "metadata": {},
   "outputs": [],
   "source": [
    "N = 3\n",
    "players = np.array([i for i in range(N)])\n",
    "ratings = [800] * N\n",
    "winChance = [[None, 0.6, 0.6], [0.4, None, 0.5], [0.4, 0.5, None]]\n",
    "freqs = np.array([1, 3, 3]) # Player 0 plays less often\n",
    "freqs = freqs / freqs.sum() # Normalize"
   ]
  },
  {
   "cell_type": "code",
   "execution_count": 219,
   "id": "5a7aa011",
   "metadata": {},
   "outputs": [
    {
     "name": "stdout",
     "output_type": "stream",
     "text": [
      "Ratings:  [780, 842, 778]\n"
     ]
    }
   ],
   "source": [
    "for i in range(1000): # Num games\n",
    "    pair = np.random.choice(a=players, size=2, replace=False, p=freqs)\n",
    "    pidx0, pidx1 = pair\n",
    "    winner = \"A\" if random() < winChance[pidx0][pidx1] else \"B\"\n",
    "    r0, r1 = updateRating(ratings[pidx0], ratings[pidx1], winner)\n",
    "    ratings[pidx0] = r0\n",
    "    ratings[pidx1] = r1\n",
    "\n",
    "\n",
    "print(\"Ratings: \", ratings)"
   ]
  }
 ],
 "metadata": {
  "kernelspec": {
   "display_name": "Python 3",
   "language": "python",
   "name": "python3"
  },
  "language_info": {
   "codemirror_mode": {
    "name": "ipython",
    "version": 3
   },
   "file_extension": ".py",
   "mimetype": "text/x-python",
   "name": "python",
   "nbconvert_exporter": "python",
   "pygments_lexer": "ipython3",
   "version": "3.11.9"
  }
 },
 "nbformat": 4,
 "nbformat_minor": 5
}
